{
 "cells": [
  {
   "cell_type": "markdown",
   "id": "3ef8ae57d1e8d096",
   "metadata": {
    "collapsed": false
   },
   "source": [
    "Add 2 columns to the device table:\n",
    "1. Add a new column boolean called linux_base which will be True if the operating\n",
    "system is based on linux (linux, cumulus, sonic), False otherwise.\n",
    "2. Add a new column called osString which is the concatenation of os, version and\n",
    "architecture. This field must be allowed to be filtered via the cli.\n"
   ]
  },
  {
   "cell_type": "code",
   "execution_count": 1,
   "id": "a4d89755-b854-4fc6-b762-f7862a5b3a0f",
   "metadata": {},
   "outputs": [
    {
     "name": "stdout",
     "output_type": "stream",
     "text": [
      "Number of founded files: 119\n"
     ]
    }
   ],
   "source": [
    "import os\n",
    "\n",
    "root=\"../data/parquet/device\"\n",
    "parquet_dir_list=[]\n",
    "for path, subdirs, files in os.walk(root):\n",
    "    for name in files:\n",
    "        if name.endswith(\".parquet\"):\n",
    "            parquet_dir_list.append(os.path.join(path, name))\n",
    "print(f\"Number of founded files: {len(parquet_dir_list)}\")"
   ]
  },
  {
   "cell_type": "code",
   "execution_count": 2,
   "id": "65a26c5c-cc09-4f93-a384-845db945a651",
   "metadata": {},
   "outputs": [
    {
     "name": "stdout",
     "output_type": "stream",
     "text": [
      "all done\n"
     ]
    }
   ],
   "source": [
    "import pandas as pd\n",
    "\n",
    "linux_base = [\"linux\", \"cumulus\", \"sonic\"]\n",
    "os_col=\"os\"\n",
    "version_col=\"version\"\n",
    "architecture_col=\"architecture\"\n",
    "for parquet_dir in parquet_dir_list:\n",
    "    device_pqt = pd.read_parquet(parquet_dir, engine='pyarrow')\n",
    "    \n",
    "    if os_col in device_pqt.columns:\n",
    "        device_pqt['linux_base'] = device_pqt[os_col].isin(linux_base)\n",
    "        \n",
    "        if version_col in device_pqt.columns and architecture_col in device_pqt.columns:\n",
    "            device_pqt[\"osString\"] = device_pqt[os_col] + \" \" + device_pqt[version_col] + \" \" + device_pqt[architecture_col]\n",
    "            \n",
    "        device_pqt.to_parquet(parquet_dir, engine='pyarrow')\n",
    "    else:\n",
    "        print(\"No 'os' column in:\", parquet_dir)\n",
    "\n",
    "print(\"all done\")"
   ]
  }
 ],
 "metadata": {
  "kernelspec": {
   "display_name": "Python 3 (ipykernel)",
   "language": "python",
   "name": "python3"
  },
  "language_info": {
   "codemirror_mode": {
    "name": "ipython",
    "version": 3
   },
   "file_extension": ".py",
   "mimetype": "text/x-python",
   "name": "python",
   "nbconvert_exporter": "python",
   "pygments_lexer": "ipython3",
   "version": "3.9.6"
  }
 },
 "nbformat": 4,
 "nbformat_minor": 5
}
